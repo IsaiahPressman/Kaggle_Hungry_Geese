{
 "cells": [
  {
   "cell_type": "code",
   "execution_count": 40,
   "id": "announced-elevation",
   "metadata": {},
   "outputs": [],
   "source": [
    "import copy\n",
    "from kaggle_environments import make as kaggle_make\n",
    "from kaggle_environments.envs.hungry_geese.hungry_geese import Action, Configuration, Observation\n",
    "import matplotlib.pyplot as plt\n",
    "import numpy as np\n",
    "from scipy import special, stats\n",
    "import torch\n",
    "import torch.nn.functional as F\n",
    "\n",
    "from hungry_geese.utils import ActionMasking\n",
    "from hungry_geese.env import goose_env as ge\n",
    "from hungry_geese.env.lightweight_env import LightweightEnv, make\n",
    "from hungry_geese.mcts.basic_mcts import BasicMCTS"
   ]
  },
  {
   "cell_type": "code",
   "execution_count": 4,
   "id": "postal-communist",
   "metadata": {},
   "outputs": [],
   "source": [
    "env = make('hungry_geese')\n",
    "env.reset(num_agents=4);"
   ]
  },
  {
   "cell_type": "code",
   "execution_count": 3,
   "id": "female-canyon",
   "metadata": {},
   "outputs": [],
   "source": [
    "def action_mask_func(state):\n",
    "    return ActionMasking.LETHAL.get_action_mask(state)\n",
    "\n",
    "def actor_func(state):\n",
    "    return np.zeros((len(state), 4)) + 0.25\n",
    "    \n",
    "# Geese are evaluated based on the proportion of their length to the total length of all geese\n",
    "# This value is then rescaled to account for geese that have already died\n",
    "# Finally, the overall rankings and ranking estimates are rescaled to be from -1 to 1\n",
    "def critic_func(state):\n",
    "    n_geese = float(len(state))\n",
    "    goose_lengths = np.array([len(goose) for goose in state[0]['observation']['geese']]).astype(np.float)\n",
    "    dead_geese_mask = goose_lengths == 0\n",
    "    agent_rankings = stats.rankdata([agent['reward'] for agent in state], method='average') - 1.\n",
    "    agent_rankings_rescaled = agent_rankings / (n_geese - 1.)\n",
    "    \n",
    "    # Deprecated: goose_lengths_norm = goose_lengths / goose_lengths.sum()\n",
    "    l_mod = state[0]['observation']['step'] / 200.\n",
    "    goose_lengths_norm = special.softmax(np.where(\n",
    "        dead_geese_mask,\n",
    "        float('-inf'),\n",
    "        goose_lengths * l_mod\n",
    "    ))\n",
    "    remaining_equity = n_geese / 2. - np.sum(np.arange(dead_geese_mask.sum()) / (n_geese - 1.))\n",
    "    goose_lengths_norm_rescaled = goose_lengths_norm * remaining_equity\n",
    "    \n",
    "    final_ranks = np.where(\n",
    "        dead_geese_mask,\n",
    "        agent_rankings_rescaled,\n",
    "        goose_lengths_norm_rescaled\n",
    "    )\n",
    "    if not np.isclose(final_ranks.sum(), n_geese / 2.):\n",
    "        raise RuntimeError(f'Final ranks should sum to {n_geese / 2.}\\n'\n",
    "                           f'Final ranks: {final_ranks}\\nDead geese mask: {dead_geese_mask}')\n",
    "    return 2. * final_ranks - 1.\n",
    "    \n",
    "def terminal_value_func(state):\n",
    "    agent_rankings = stats.rankdata([agent['reward'] for agent in state], method='average') - 1.\n",
    "    ranks_rescaled = 2. * agent_rankings / (len(state) - 1.) - 1.\n",
    "    return ranks_rescaled\n",
    "    \n",
    "def actor_critic_func(state):\n",
    "    return actor_func(state), critic_func(state)"
   ]
  },
  {
   "cell_type": "code",
   "execution_count": 5,
   "id": "controversial-forty",
   "metadata": {
    "scrolled": true
   },
   "outputs": [
    {
     "name": "stdout",
     "output_type": "stream",
     "text": [
      "+---+---+---+---+---+---+---+---+---+---+---+\n",
      "|   |   |   |   |   |   |   | 3 |   |   | 0 |\n",
      "+---+---+---+---+---+---+---+---+---+---+---+\n",
      "|   |   |   |   |   |   |   |   |   |   |   |\n",
      "+---+---+---+---+---+---+---+---+---+---+---+\n",
      "|   |   |   |   |   |   |   |   | 1 |   |   |\n",
      "+---+---+---+---+---+---+---+---+---+---+---+\n",
      "|   |   |   |   |   |   |   |   |   |   |   |\n",
      "+---+---+---+---+---+---+---+---+---+---+---+\n",
      "|   | F |   |   |   |   |   | 2 |   |   |   |\n",
      "+---+---+---+---+---+---+---+---+---+---+---+\n",
      "|   |   |   |   |   |   |   |   | F |   |   |\n",
      "+---+---+---+---+---+---+---+---+---+---+---+\n",
      "|   |   |   |   |   |   |   |   |   |   |   |\n",
      "+---+---+---+---+---+---+---+---+---+---+---+\n",
      "\n"
     ]
    }
   ],
   "source": [
    "print(env.render_ansi())\n",
    "\n",
    "search_tree = BasicMCTS(\n",
    "    action_mask_func=action_mask_func,\n",
    "    actor_critic_func=actor_critic_func,\n",
    "    terminal_value_func=terminal_value_func,\n",
    "    c_puct = np.sqrt(2.),\n",
    ")\n",
    "root_node = search_tree.run_mcts(\n",
    "    env=env,\n",
    "    n_iter=10000,\n",
    "    max_time=1.\n",
    ")"
   ]
  },
  {
   "cell_type": "code",
   "execution_count": 13,
   "id": "sensitive-deficit",
   "metadata": {},
   "outputs": [
    {
     "data": {
      "text/plain": [
       "array([[-0.01133309, -0.00866546, -0.04116001,  0.00154068],\n",
       "       [ 0.00330338, -0.01095515, -0.00121598,  0.01584697],\n",
       "       [ 0.00630528,  0.00585535,  0.01161997, -0.0105666 ],\n",
       "       [-0.01904349, -0.0149516 ,  0.00303559,  0.01530704]])"
      ]
     },
     "execution_count": 13,
     "metadata": {},
     "output_type": "execute_result"
    }
   ],
   "source": [
    "root_node.n_visits\n",
    "root_node.q_vals"
   ]
  },
  {
   "cell_type": "code",
   "execution_count": 48,
   "id": "super-truth",
   "metadata": {},
   "outputs": [],
   "source": [
    "actions = (0, 2, 0)\n",
    "q_vals = np.arange(len(actions) * 4).reshape(-1, 4)\n",
    "values = np.arange(len(actions)).reshape(-1, 1) * 10\n",
    "n_visits = np.arange(len(actions) * 4).reshape(-1, 4)"
   ]
  },
  {
   "cell_type": "code",
   "execution_count": 61,
   "id": "resident-politics",
   "metadata": {},
   "outputs": [],
   "source": [
    "still_playing = np.array([True, False, True])"
   ]
  },
  {
   "cell_type": "code",
   "execution_count": 62,
   "id": "heated-buyer",
   "metadata": {},
   "outputs": [
    {
     "name": "stdout",
     "output_type": "stream",
     "text": [
      "[3 2 0]\n"
     ]
    },
    {
     "data": {
      "text/plain": [
       "array([ 3, -1,  0])"
      ]
     },
     "execution_count": 62,
     "metadata": {},
     "output_type": "execute_result"
    }
   ],
   "source": [
    "print(np.argmax(q_vals, axis=1))\n",
    "np.where(\n",
    "    still_playing,\n",
    "    np.argmax(q_vals, axis=1),\n",
    "    -1\n",
    ")"
   ]
  },
  {
   "cell_type": "code",
   "execution_count": 53,
   "id": "macro-segment",
   "metadata": {},
   "outputs": [
    {
     "data": {
      "text/plain": [
       "array([[ 0,  1,  2,  3],\n",
       "       [ 4,  5, 16,  7],\n",
       "       [28,  9, 10, 11]])"
      ]
     },
     "execution_count": 53,
     "metadata": {},
     "output_type": "execute_result"
    }
   ],
   "source": [
    "q_vals = np.where(\n",
    "    np.eye(4)[np.array(actions)],\n",
    "    q_vals + values,\n",
    "    q_vals\n",
    ")\n",
    "q_vals"
   ]
  },
  {
   "cell_type": "code",
   "execution_count": 39,
   "id": "junior-maine",
   "metadata": {},
   "outputs": [
    {
     "data": {
      "text/plain": [
       "array([[0.63831411, 0.12056196, 0.12056196, 0.12056196],\n",
       "       [0.38376162, 0.20541279, 0.20541279, 0.20541279],\n",
       "       [0.2912851 , 0.2912851 , 0.2087149 , 0.2087149 ],\n",
       "       [0.27594788, 0.27594788, 0.22405212, 0.22405212],\n",
       "       [0.25991543, 0.25991543, 0.24008457, 0.24008457]])"
      ]
     },
     "execution_count": 39,
     "metadata": {},
     "output_type": "execute_result"
    }
   ],
   "source": [
    "food_dists = np.array([[0, 2, 2, 2],\n",
    "                       [1, 3, 3, 3],\n",
    "                       [2, 2, 4, 4],\n",
    "                       [3, 3, 5, 5],\n",
    "                       [6, 6, 8, 8]])\n",
    "special.softmax(1. / ((food_dists + 1.) * 0.4), axis=-1)"
   ]
  },
  {
   "cell_type": "code",
   "execution_count": 26,
   "id": "african-sheriff",
   "metadata": {},
   "outputs": [
    {
     "data": {
      "text/plain": [
       "(0.0, 1.0)"
      ]
     },
     "execution_count": 26,
     "metadata": {},
     "output_type": "execute_result"
    },
    {
     "data": {
      "image/png": "[encoded data removed]",
      "text/plain": [
       "<Figure size 432x288 with 1 Axes>"
      ]
     },
     "metadata": {
      "needs_background": "light"
     },
     "output_type": "display_data"
    }
   ],
   "source": [
    "goose_lengths = np.array([\n",
    "    [0, 1],\n",
    "    [0, 2],\n",
    "    [0, 3],\n",
    "    [0, 4],\n",
    "    [0, 5],\n",
    "    [0, 10]\n",
    "])\n",
    "win_pcts = []\n",
    "for step in range(200):\n",
    "    # l_mod = step / 200.\n",
    "    l_mod = 0.5 / 1.\n",
    "    win_pcts.append(special.softmax(goose_lengths * l_mod, axis=-1)[:, 0])\n",
    "plt.plot(win_pcts)\n",
    "plt.ylim((0., 1.))"
   ]
  }
 ],
 "metadata": {
  "kernelspec": {
   "display_name": "Python 3",
   "language": "python",
   "name": "python3"
  },
  "language_info": {
   "codemirror_mode": {
    "name": "ipython",
    "version": 3
   },
   "file_extension": ".py",
   "mimetype": "text/x-python",
   "name": "python",
   "nbconvert_exporter": "python",
   "pygments_lexer": "ipython3",
   "version": "3.7.9"
  }
 },
 "nbformat": 4,
 "nbformat_minor": 5
}
