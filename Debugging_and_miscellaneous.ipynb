{
 "cells": [
  {
   "cell_type": "code",
   "execution_count": 1,
   "id": "announced-elevation",
   "metadata": {},
   "outputs": [
    {
     "name": "stdout",
     "output_type": "stream",
     "text": [
      "Loading environment football failed: No module named 'gfootball'\n"
     ]
    }
   ],
   "source": [
    "import copy\n",
    "from kaggle_environments import make as kaggle_make\n",
    "from kaggle_environments.envs.hungry_geese.hungry_geese import Action, Configuration, Observation\n",
    "import matplotlib.pyplot as plt\n",
    "import numpy as np\n",
    "from pathlib import Path\n",
    "from scipy import special, stats\n",
    "from sklearn.model_selection import train_test_split\n",
    "import torch\n",
    "import torch.nn.functional as F\n",
    "from torch.utils.data import DataLoader\n",
    "\n",
    "from hungry_geese.utils import ActionMasking\n",
    "from hungry_geese.env import goose_env as ge\n",
    "from hungry_geese.env.lightweight_env import LightweightEnv, make\n",
    "from hungry_geese.mcts.basic_mcts import BasicMCTS\n",
    "from hungry_geese.sl.alphagoose_dataloader import AlphaGooseDataset, RandomReflect, alphagoose_collate_fn\n",
    "\n",
    "%matplotlib inline"
   ]
  },
  {
   "cell_type": "code",
   "execution_count": 55,
   "id": "dress-mongolia",
   "metadata": {},
   "outputs": [
    {
     "data": {
      "image/png": "[encoded data removed]",
      "text/plain": [
       "<Figure size 1440x720 with 17 Axes>"
      ]
     },
     "metadata": {
      "needs_background": "light"
     },
     "output_type": "display_data"
    }
   ],
   "source": [
    "import matplotlib.colors as colors\n",
    "for s, a, r, hl, alive in ag_dataloader:\n",
    "    square = np.ceil(np.sqrt(s.shape[1])).astype(np.int)\n",
    "    fig, axs = plt.subplots(square, square, figsize=(20,10))\n",
    "    ix = 0\n",
    "    for i in range(square):\n",
    "        for j in range(square):\n",
    "            ax = axs[i, j]\n",
    "            ax.set_xticks([])\n",
    "            ax.set_yticks([])\n",
    "            eps = 1e-2\n",
    "            if ix < s.shape[1]:\n",
    "                pcm = ax.imshow(s[0, ix, :, :] + eps, norm=colors.LogNorm(vmin=eps, vmax=1.), cmap='gray')\n",
    "                ix += 1\n",
    "    fig.colorbar(pcm, ax = axs)\n",
    "    plt.show()\n",
    "    break"
   ]
  },
  {
   "cell_type": "code",
   "execution_count": 4,
   "id": "postal-communist",
   "metadata": {},
   "outputs": [],
   "source": [
    "env = make('hungry_geese')\n",
    "env.reset(num_agents=4);"
   ]
  },
  {
   "cell_type": "code",
   "execution_count": 3,
   "id": "wrong-investigator",
   "metadata": {},
   "outputs": [],
   "source": [
    "def action_mask_func(state):\n",
    "    return ActionMasking.LETHAL.get_action_mask(state)\n",
    "\n",
    "def actor_func(state):\n",
    "    return np.zeros((len(state), 4)) + 0.25\n",
    "    \n",
    "# Geese are evaluated based on the proportion of their length to the total length of all geese\n",
    "# This value is then rescaled to account for geese that have already died\n",
    "# Finally, the overall rankings and ranking estimates are rescaled to be from -1 to 1\n",
    "def critic_func(state):\n",
    "    n_geese = float(len(state))\n",
    "    goose_lengths = np.array([len(goose) for goose in state[0]['observation']['geese']]).astype(np.float)\n",
    "    dead_geese_mask = goose_lengths == 0\n",
    "    agent_rankings = stats.rankdata([agent['reward'] for agent in state], method='average') - 1.\n",
    "    agent_rankings_rescaled = agent_rankings / (n_geese - 1.)\n",
    "    \n",
    "    # Deprecated: goose_lengths_norm = goose_lengths / goose_lengths.sum()\n",
    "    l_mod = state[0]['observation']['step'] / 200.\n",
    "    goose_lengths_norm = special.softmax(np.where(\n",
    "        dead_geese_mask,\n",
    "        float('-inf'),\n",
    "        goose_lengths * l_mod\n",
    "    ))\n",
    "    remaining_equity = n_geese / 2. - np.sum(np.arange(dead_geese_mask.sum()) / (n_geese - 1.))\n",
    "    goose_lengths_norm_rescaled = goose_lengths_norm * remaining_equity\n",
    "    \n",
    "    final_ranks = np.where(\n",
    "        dead_geese_mask,\n",
    "        agent_rankings_rescaled,\n",
    "        goose_lengths_norm_rescaled\n",
    "    )\n",
    "    if not np.isclose(final_ranks.sum(), n_geese / 2.):\n",
    "        raise RuntimeError(f'Final ranks should sum to {n_geese / 2.}\\n'\n",
    "                           f'Final ranks: {final_ranks}\\nDead geese mask: {dead_geese_mask}')\n",
    "    return 2. * final_ranks - 1.\n",
    "    \n",
    "def terminal_value_func(state):\n",
    "    agent_rankings = stats.rankdata([agent['reward'] for agent in state], method='average') - 1.\n",
    "    ranks_rescaled = 2. * agent_rankings / (len(state) - 1.) - 1.\n",
    "    return ranks_rescaled\n",
    "    \n",
    "def actor_critic_func(state):\n",
    "    return actor_func(state), critic_func(state)"
   ]
  },
  {
   "cell_type": "code",
   "execution_count": 5,
   "id": "answering-morris",
   "metadata": {
    "scrolled": true
   },
   "outputs": [
    {
     "name": "stdout",
     "output_type": "stream",
     "text": [
      "+---+---+---+---+---+---+---+---+---+---+---+\n",
      "|   |   |   |   |   |   |   | 3 |   |   | 0 |\n",
      "+---+---+---+---+---+---+---+---+---+---+---+\n",
      "|   |   |   |   |   |   |   |   |   |   |   |\n",
      "+---+---+---+---+---+---+---+---+---+---+---+\n",
      "|   |   |   |   |   |   |   |   | 1 |   |   |\n",
      "+---+---+---+---+---+---+---+---+---+---+---+\n",
      "|   |   |   |   |   |   |   |   |   |   |   |\n",
      "+---+---+---+---+---+---+---+---+---+---+---+\n",
      "|   | F |   |   |   |   |   | 2 |   |   |   |\n",
      "+---+---+---+---+---+---+---+---+---+---+---+\n",
      "|   |   |   |   |   |   |   |   | F |   |   |\n",
      "+---+---+---+---+---+---+---+---+---+---+---+\n",
      "|   |   |   |   |   |   |   |   |   |   |   |\n",
      "+---+---+---+---+---+---+---+---+---+---+---+\n",
      "\n"
     ]
    }
   ],
   "source": [
    "print(env.render_ansi())\n",
    "\n",
    "search_tree = BasicMCTS(\n",
    "    action_mask_func=action_mask_func,\n",
    "    actor_critic_func=actor_critic_func,\n",
    "    terminal_value_func=terminal_value_func,\n",
    "    c_puct = np.sqrt(2.),\n",
    ")\n",
    "root_node = search_tree.run_mcts(\n",
    "    env=env,\n",
    "    n_iter=10000,\n",
    "    max_time=1.\n",
    ")"
   ]
  },
  {
   "cell_type": "code",
   "execution_count": 13,
   "id": "significant-lecture",
   "metadata": {},
   "outputs": [
    {
     "data": {
      "text/plain": [
       "array([[-0.01133309, -0.00866546, -0.04116001,  0.00154068],\n",
       "       [ 0.00330338, -0.01095515, -0.00121598,  0.01584697],\n",
       "       [ 0.00630528,  0.00585535,  0.01161997, -0.0105666 ],\n",
       "       [-0.01904349, -0.0149516 ,  0.00303559,  0.01530704]])"
      ]
     },
     "execution_count": 13,
     "metadata": {},
     "output_type": "execute_result"
    }
   ],
   "source": [
    "root_node.n_visits\n",
    "root_node.q_vals"
   ]
  },
  {
   "cell_type": "code",
   "execution_count": 58,
   "id": "vital-cheat",
   "metadata": {},
   "outputs": [
    {
     "data": {
      "text/plain": [
       "array([[0.40678677, 0.19773774, 0.19773774, 0.19773774],\n",
       "       [0.30795272, 0.23068243, 0.23068243, 0.23068243],\n",
       "       [0.27035942, 0.27035942, 0.22964058, 0.22964058],\n",
       "       [0.26341667, 0.26341667, 0.23658333, 0.23658333],\n",
       "       [0.25582443, 0.25582443, 0.24417557, 0.24417557]])"
      ]
     },
     "execution_count": 58,
     "metadata": {},
     "output_type": "execute_result"
    }
   ],
   "source": [
    "food_dists = np.array([[0, 2, 2, 2],\n",
    "                       [1, 3, 3, 3],\n",
    "                       [2, 2, 4, 4],\n",
    "                       [3, 3, 5, 5],\n",
    "                       [6, 6, 8, 8]])\n",
    "special.softmax(1. / np.log((food_dists + 1.) * 1 + 1.), axis=-1)"
   ]
  },
  {
   "cell_type": "code",
   "execution_count": 68,
   "id": "sporting-thomson",
   "metadata": {},
   "outputs": [
    {
     "data": {
      "text/plain": [
       "array([[0.31750125, 0.22749958, 0.22749958, 0.22749958],\n",
       "       [0.27416108, 0.24194631, 0.24194631, 0.24194631],\n",
       "       [0.25833025, 0.25833025, 0.24166975, 0.24166975],\n",
       "       [0.25520758, 0.25520758, 0.24479242, 0.24479242],\n",
       "       [0.25198409, 0.25198409, 0.24801591, 0.24801591]])"
      ]
     },
     "execution_count": 68,
     "metadata": {},
     "output_type": "execute_result"
    }
   ],
   "source": [
    "special.softmax(1. / ((food_dists + 1.) * 2), axis=-1)"
   ]
  },
  {
   "cell_type": "code",
   "execution_count": 26,
   "id": "defensive-hamilton",
   "metadata": {},
   "outputs": [
    {
     "data": {
      "text/plain": [
       "(0.0, 1.0)"
      ]
     },
     "execution_count": 26,
     "metadata": {},
     "output_type": "execute_result"
    },
    {
     "data": {
      "image/png": "[encoded data removed]",
      "text/plain": [
       "<Figure size 432x288 with 1 Axes>"
      ]
     },
     "metadata": {
      "needs_background": "light"
     },
     "output_type": "display_data"
    }
   ],
   "source": [
    "goose_lengths = np.array([\n",
    "    [0, 1],\n",
    "    [0, 2],\n",
    "    [0, 3],\n",
    "    [0, 4],\n",
    "    [0, 5],\n",
    "    [0, 10]\n",
    "])\n",
    "win_pcts = []\n",
    "for step in range(200):\n",
    "    # l_mod = step / 200.\n",
    "    l_mod = 0.5 / 1.\n",
    "    win_pcts.append(special.softmax(goose_lengths * l_mod, axis=-1)[:, 0])\n",
    "plt.plot(win_pcts)\n",
    "plt.ylim((0., 1.))"
   ]
  }
 ],
 "metadata": {
  "kernelspec": {
   "display_name": "Python 3",
   "language": "python",
   "name": "python3"
  },
  "language_info": {
   "codemirror_mode": {
    "name": "ipython",
    "version": 3
   },
   "file_extension": ".py",
   "mimetype": "text/x-python",
   "name": "python",
   "nbconvert_exporter": "python",
   "pygments_lexer": "ipython3",
   "version": "3.7.9"
  }
 },
 "nbformat": 4,
 "nbformat_minor": 5
}
