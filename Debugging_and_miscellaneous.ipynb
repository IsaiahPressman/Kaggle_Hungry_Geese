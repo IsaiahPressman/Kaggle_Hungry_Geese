{
 "cells": [
  {
   "cell_type": "code",
   "execution_count": 48,
   "id": "super-truth",
   "metadata": {},
   "outputs": [],
   "source": [
    "actions = (0, 2, 0)\n",
    "q_vals = np.arange(len(actions) * 4).reshape(-1, 4)\n",
    "values = np.arange(len(actions)).reshape(-1, 1) * 10\n",
    "n_visits = np.arange(len(actions) * 4).reshape(-1, 4)"
   ]
  },
  {
   "cell_type": "code",
   "execution_count": 61,
   "id": "resident-politics",
   "metadata": {},
   "outputs": [],
   "source": [
    "still_playing = np.array([True, False, True])"
   ]
  },
  {
   "cell_type": "code",
   "execution_count": 62,
   "id": "heated-buyer",
   "metadata": {},
   "outputs": [
    {
     "name": "stdout",
     "output_type": "stream",
     "text": [
      "[3 2 0]\n"
     ]
    },
    {
     "data": {
      "text/plain": [
       "array([ 3, -1,  0])"
      ]
     },
     "execution_count": 62,
     "metadata": {},
     "output_type": "execute_result"
    }
   ],
   "source": [
    "print(np.argmax(q_vals, axis=1))\n",
    "np.where(\n",
    "    still_playing,\n",
    "    np.argmax(q_vals, axis=1),\n",
    "    -1\n",
    ")"
   ]
  },
  {
   "cell_type": "code",
   "execution_count": 53,
   "id": "macro-segment",
   "metadata": {},
   "outputs": [
    {
     "data": {
      "text/plain": [
       "array([[ 0,  1,  2,  3],\n",
       "       [ 4,  5, 16,  7],\n",
       "       [28,  9, 10, 11]])"
      ]
     },
     "execution_count": 53,
     "metadata": {},
     "output_type": "execute_result"
    }
   ],
   "source": [
    "q_vals = np.where(\n",
    "    np.eye(4)[np.array(actions)],\n",
    "    q_vals + values,\n",
    "    q_vals\n",
    ")\n",
    "q_vals"
   ]
  },
  {
   "cell_type": "code",
   "execution_count": 9,
   "id": "announced-elevation",
   "metadata": {},
   "outputs": [],
   "source": [
    "import copy\n",
    "from kaggle_environments import make as kaggle_make\n",
    "import numpy as np\n",
    "from scipy import special, stats\n",
    "import torch\n",
    "import torch.nn.functional as F\n",
    "\n",
    "from hungry_geese.utils import ActionMasking\n",
    "from hungry_geese.env import goose_env as ge\n",
    "from hungry_geese.env.lightweight_env import LightweightEnv, make\n",
    "from hungry_geese.mcts.basic_mcts import run_mcts"
   ]
  },
  {
   "cell_type": "code",
   "execution_count": 2,
   "id": "postal-communist",
   "metadata": {},
   "outputs": [],
   "source": [
    "env = make('hungry_geese')\n",
    "env.reset(num_agents=4);"
   ]
  },
  {
   "cell_type": "code",
   "execution_count": 21,
   "id": "interested-inspiration",
   "metadata": {},
   "outputs": [
    {
     "data": {
      "text/plain": [
       "array([0.26894142, 0.73105858])"
      ]
     },
     "execution_count": 21,
     "metadata": {},
     "output_type": "execute_result"
    }
   ],
   "source": [
    "goose_lengths = np.arange(2.) * 3\n",
    "special.softmax(goose_lengths / 3.)"
   ]
  },
  {
   "cell_type": "code",
   "execution_count": 3,
   "id": "amazing-personality",
   "metadata": {},
   "outputs": [],
   "source": [
    "def action_mask_func(state):\n",
    "    return ActionMasking.LETHAL.get_action_mask(state)\n",
    "\n",
    "def actor_func(state):\n",
    "    return np.zeros((len(state), 4)) + 0.25\n",
    "    \n",
    "# Geese are evaluated based on the proportion of their length to the total length of all geese\n",
    "# This value is then rescaled to account for geese that have already died\n",
    "# Finally, the overall rankings and ranking estimates are rescaled to be from -1 to 1\n",
    "def critic_func(state):\n",
    "    n_geese = float(len(state))\n",
    "    goose_lengths = np.array([len(goose) for goose in state[0]['observation']['geese']]).astype(np.float)\n",
    "    dead_geese_mask = goose_lengths == 0\n",
    "    agent_rankings = stats.rankdata([agent['reward'] for agent in state], method='average') - 1.\n",
    "    agent_rankings_rescaled = agent_rankings / (n_geese - 1.)\n",
    "    \n",
    "    goose_lengths_norm = goose_lengths / goose_lengths.sum()\n",
    "    remaining_equity = n_geese / 2. - np.sum(np.arange(dead_geese_mask.sum()) / (n_geese - 1.))\n",
    "    goose_lengths_norm_rescaled = goose_lengths_norm * remaining_equity\n",
    "    \n",
    "    final_ranks = np.where(\n",
    "        dead_geese_mask,\n",
    "        agent_rankings_rescaled,\n",
    "        goose_lengths_norm_rescaled\n",
    "    )\n",
    "    if not np.isclose(final_ranks.sum(), n_geese / 2.):\n",
    "        raise RuntimeError(f'Final ranks should sum to {n_geese / 2.}\\n'\n",
    "                           f'Final ranks: {final_ranks}\\nDead geese mask: {dead_geese_mask}')\n",
    "    return 2. * final_ranks - 1.\n",
    "    \n",
    "def terminal_value_func(state):\n",
    "    agent_rankings = stats.rankdata([agent['reward'] for agent in state], method='average') - 1.\n",
    "    ranks_rescaled = 2. * agent_rankings / (len(state) - 1.) - 1.\n",
    "    return ranks_rescaled\n",
    "    \n",
    "def actor_critic_func(state):\n",
    "    return actor_func(state), critic_func(state)"
   ]
  },
  {
   "cell_type": "code",
   "execution_count": 6,
   "id": "minor-library",
   "metadata": {
    "scrolled": true
   },
   "outputs": [
    {
     "name": "stdout",
     "output_type": "stream",
     "text": [
      "+---+---+---+---+---+---+---+---+---+---+---+\n",
      "|   |   |   |   |   |   |   |   |   |   |   |\n",
      "+---+---+---+---+---+---+---+---+---+---+---+\n",
      "|   |   |   |   |   |   |   |   |   |   |   |\n",
      "+---+---+---+---+---+---+---+---+---+---+---+\n",
      "|   |   |   |   |   |   |   |   |   |   |   |\n",
      "+---+---+---+---+---+---+---+---+---+---+---+\n",
      "|   |   |   |   | 0 |   |   |   | F |   |   |\n",
      "+---+---+---+---+---+---+---+---+---+---+---+\n",
      "|   |   |   |   |   |   | 2 | 3 |   |   |   |\n",
      "+---+---+---+---+---+---+---+---+---+---+---+\n",
      "|   |   | F |   |   |   |   |   |   |   |   |\n",
      "+---+---+---+---+---+---+---+---+---+---+---+\n",
      "|   | 1 |   |   |   |   |   |   |   |   |   |\n",
      "+---+---+---+---+---+---+---+---+---+---+---+\n",
      "\n"
     ]
    }
   ],
   "source": [
    "print(env.render_ansi())\n",
    "\n",
    "search_tree = run_mcts(\n",
    "    env=env,\n",
    "    n_iter=10000,\n",
    "    action_mask_func=action_mask_func,\n",
    "    actor_critic_func=actor_critic_func,\n",
    "    terminal_value_func=terminal_value_func,\n",
    "    max_time=1.\n",
    ")"
   ]
  },
  {
   "cell_type": "code",
   "execution_count": 8,
   "id": "chicken-trading",
   "metadata": {},
   "outputs": [
    {
     "data": {
      "text/plain": [
       "array([1381., 1381., 1381., 1381.])"
      ]
     },
     "execution_count": 8,
     "metadata": {},
     "output_type": "execute_result"
    }
   ],
   "source": [
    "search_tree.n_visits"
   ]
  }
 ],
 "metadata": {
  "kernelspec": {
   "display_name": "Python 3",
   "language": "python",
   "name": "python3"
  },
  "language_info": {
   "codemirror_mode": {
    "name": "ipython",
    "version": 3
   },
   "file_extension": ".py",
   "mimetype": "text/x-python",
   "name": "python",
   "nbconvert_exporter": "python",
   "pygments_lexer": "ipython3",
   "version": "3.7.9"
  }
 },
 "nbformat": 4,
 "nbformat_minor": 5
}
