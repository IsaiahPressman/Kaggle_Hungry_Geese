{
 "cells": [
  {
   "cell_type": "code",
   "execution_count": 48,
   "id": "super-truth",
   "metadata": {},
   "outputs": [],
   "source": [
    "actions = (0, 2, 0)\n",
    "q_vals = np.arange(len(actions) * 4).reshape(-1, 4)\n",
    "values = np.arange(len(actions)).reshape(-1, 1) * 10\n",
    "n_visits = np.arange(len(actions) * 4).reshape(-1, 4)"
   ]
  },
  {
   "cell_type": "code",
   "execution_count": 61,
   "id": "resident-politics",
   "metadata": {},
   "outputs": [],
   "source": [
    "still_playing = np.array([True, False, True])"
   ]
  },
  {
   "cell_type": "code",
   "execution_count": 62,
   "id": "heated-buyer",
   "metadata": {},
   "outputs": [
    {
     "name": "stdout",
     "output_type": "stream",
     "text": [
      "[3 2 0]\n"
     ]
    },
    {
     "data": {
      "text/plain": [
       "array([ 3, -1,  0])"
      ]
     },
     "execution_count": 62,
     "metadata": {},
     "output_type": "execute_result"
    }
   ],
   "source": [
    "print(np.argmax(q_vals, axis=1))\n",
    "np.where(\n",
    "    still_playing,\n",
    "    np.argmax(q_vals, axis=1),\n",
    "    -1\n",
    ")"
   ]
  },
  {
   "cell_type": "code",
   "execution_count": 53,
   "id": "macro-segment",
   "metadata": {},
   "outputs": [
    {
     "data": {
      "text/plain": [
       "array([[ 0,  1,  2,  3],\n",
       "       [ 4,  5, 16,  7],\n",
       "       [28,  9, 10, 11]])"
      ]
     },
     "execution_count": 53,
     "metadata": {},
     "output_type": "execute_result"
    }
   ],
   "source": [
    "q_vals = np.where(\n",
    "    np.eye(4)[np.array(actions)],\n",
    "    q_vals + values,\n",
    "    q_vals\n",
    ")\n",
    "q_vals"
   ]
  },
  {
   "cell_type": "code",
   "execution_count": 1,
   "id": "announced-elevation",
   "metadata": {},
   "outputs": [
    {
     "name": "stdout",
     "output_type": "stream",
     "text": [
      "Loading environment football failed: No module named 'gfootball'\n"
     ]
    }
   ],
   "source": [
    "import copy\n",
    "from kaggle_environments import make as kaggle_make\n",
    "import numpy as np\n",
    "from scipy import stats\n",
    "import torch\n",
    "import torch.nn.functional as F\n",
    "\n",
    "from hungry_geese.env import goose_env as ge\n",
    "from hungry_geese.env.lightweight_env import LightweightEnv, make\n",
    "from hungry_geese.mcts.basic_mcts import run_mcts"
   ]
  },
  {
   "cell_type": "code",
   "execution_count": 2,
   "id": "postal-communist",
   "metadata": {},
   "outputs": [],
   "source": [
    "env = make('hungry_geese')\n",
    "env.reset();"
   ]
  },
  {
   "cell_type": "code",
   "execution_count": 16,
   "id": "european-workstation",
   "metadata": {},
   "outputs": [
    {
     "name": "stdout",
     "output_type": "stream",
     "text": [
      "32.7 µs ± 480 ns per loop (mean ± std. dev. of 7 runs, 10000 loops each)\n"
     ]
    }
   ],
   "source": []
  }
 ],
 "metadata": {
  "kernelspec": {
   "display_name": "Python 3",
   "language": "python",
   "name": "python3"
  },
  "language_info": {
   "codemirror_mode": {
    "name": "ipython",
    "version": 3
   },
   "file_extension": ".py",
   "mimetype": "text/x-python",
   "name": "python",
   "nbconvert_exporter": "python",
   "pygments_lexer": "ipython3",
   "version": "3.7.9"
  }
 },
 "nbformat": 4,
 "nbformat_minor": 5
}
