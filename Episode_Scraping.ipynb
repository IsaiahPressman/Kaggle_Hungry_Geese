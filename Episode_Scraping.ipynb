{
 "cells": [
  {
   "cell_type": "markdown",
   "metadata": {
    "papermill": {
     "duration": 0.010484,
     "end_time": "2021-02-10T14:56:52.720300",
     "exception": false,
     "start_time": "2021-02-10T14:56:52.709816",
     "status": "completed"
    },
    "tags": []
   },
   "source": [
    "# Simulations Episode Scraper Match Downloader"
   ]
  },
  {
   "cell_type": "markdown",
   "metadata": {
    "papermill": {
     "duration": 0.008843,
     "end_time": "2021-02-10T14:56:52.739107",
     "exception": false,
     "start_time": "2021-02-10T14:56:52.730264",
     "status": "completed"
    },
    "tags": []
   },
   "source": [
    "From Kaggle user robga: https://www.kaggle.com/robga/simulations-episode-scraper-match-downloader\n",
    "\n",
    "This notebook downloads episodes using Kaggle's GetEpisodeReplay API and the [Meta Kaggle](https://www.kaggle.com/kaggle/meta-kaggle) dataset.\n",
    "\n",
    "Meta Kaggle is refreshed daily, and sometimes fails a daily refresh. That's OK, Goose keeps well for 24hr.\n",
    "\n",
    "Why download replays?\n",
    "- Train your ML/RL model\n",
    "- Inspect the performance of yours and others agents\n",
    "- To add to your ever growing json collection \n",
    "\n",
    "Only one scraping strategy is implemented: For each top scoring submission, download all missing matches, move on to next submission.\n",
    "\n",
    "Other scraping strategies can be implemented, but not here. Like download max X matches per submission or per team per day, or ignore certain teams or ignore where some scores < X, or only download some teams.\n",
    "\n",
    "Please let me know of any bugs. It's new, and my goose may be cooked.\n",
    "\n",
    "Todo:\n",
    "- Add teamid's once meta kaggle add them (a few days away)"
   ]
  },
  {
   "cell_type": "code",
   "execution_count": 1,
   "metadata": {
    "_cell_guid": "b1076dfc-b9ad-4769-8c92-a6c4dae69d19",
    "_kg_hide-input": true,
    "_kg_hide-output": true,
    "_uuid": "8f2839f25d086af736a60e9eeb907d3b93b6e0e5",
    "papermill": {
     "duration": 0.017196,
     "end_time": "2021-02-10T14:56:52.765344",
     "exception": false,
     "start_time": "2021-02-10T14:56:52.748148",
     "status": "completed"
    },
    "tags": []
   },
   "outputs": [],
   "source": [
    "import pandas as pd\n",
    "import numpy as np\n",
    "import os\n",
    "import requests\n",
    "import json\n",
    "import datetime\n",
    "import time\n",
    "import glob\n",
    "import collections\n",
    "\n",
    "global num_api_calls_today\n",
    "num_api_calls_today = 0"
   ]
  },
  {
   "cell_type": "code",
   "execution_count": 2,
   "metadata": {
    "papermill": {
     "duration": 0.016481,
     "end_time": "2021-02-10T14:56:52.791002",
     "exception": false,
     "start_time": "2021-02-10T14:56:52.774521",
     "status": "completed"
    },
    "tags": []
   },
   "outputs": [],
   "source": [
    "## You should configure these to your needs. Choose one of ...\n",
    "# 'hungry-geese', 'rock-paper-scissors', santa-2020', 'halite', 'google-football'\n",
    "COMP = 'hungry-geese'\n",
    "MAX_CALLS_PER_DAY = 3550\n",
    "LOWEST_SCORE_THRESH = 1000"
   ]
  },
  {
   "cell_type": "code",
   "execution_count": 3,
   "metadata": {
    "_kg_hide-input": true,
    "_kg_hide-output": true,
    "papermill": {
     "duration": 0.017634,
     "end_time": "2021-02-10T14:56:52.818196",
     "exception": false,
     "start_time": "2021-02-10T14:56:52.800562",
     "status": "completed"
    },
    "tags": []
   },
   "outputs": [],
   "source": [
    "META = \"episode_scraping/metadata/\"\n",
    "MATCH_DIR = 'episode_scraping/episodes/'\n",
    "INFO_DIR = 'episode_scraping/infos/'\n",
    "base_url = \"https://www.kaggle.com/requests/EpisodeService/\"\n",
    "get_url = base_url + \"GetEpisodeReplay\"\n",
    "BUFFER = 1\n",
    "COMPETITIONS = {\n",
    "    'hungry-geese': 25401,\n",
    "    'rock-paper-scissors': 22838,\n",
    "    'santa-2020': 24539,\n",
    "    'halite': 18011,\n",
    "    'google-football': 21723\n",
    "}"
   ]
  },
  {
   "cell_type": "code",
   "execution_count": 5,
   "metadata": {
    "_kg_hide-input": true,
    "_kg_hide-output": true,
    "papermill": {
     "duration": 120.489076,
     "end_time": "2021-02-10T14:58:53.316601",
     "exception": false,
     "start_time": "2021-02-10T14:56:52.827525",
     "status": "completed"
    },
    "tags": []
   },
   "outputs": [
    {
     "name": "stdout",
     "output_type": "stream",
     "text": [
      "Episodes.csv: 23704391 rows before filtering.\n",
      "EpisodeAgents.csv: 57989870 rows before filtering.\n",
      "Episodes.csv: 3466109 rows after filtering for hungry-geese.\n",
      "EpisodeAgents.csv: 13864436 rows after filtering for hungry-geese.\n"
     ]
    }
   ],
   "source": [
    "# Load Episodes\n",
    "episodes_df = pd.read_csv(META + \"Episodes.csv\")\n",
    "\n",
    "# Load EpisodeAgents\n",
    "epagents_df = pd.read_csv(META + \"EpisodeAgents.csv\")\n",
    "\n",
    "print(f'Episodes.csv: {len(episodes_df)} rows before filtering.')\n",
    "print(f'EpisodeAgents.csv: {len(epagents_df)} rows before filtering.')\n",
    "\n",
    "episodes_df = episodes_df[episodes_df.CompetitionId == COMPETITIONS[COMP]] \n",
    "epagents_df = epagents_df[epagents_df.EpisodeId.isin(episodes_df.Id)]\n",
    "\n",
    "print(f'Episodes.csv: {len(episodes_df)} rows after filtering for {COMP}.')\n",
    "print(f'EpisodeAgents.csv: {len(epagents_df)} rows after filtering for {COMP}.')\n",
    "\n",
    "# Prepare dataframes\n",
    "episodes_df = episodes_df.set_index(['Id'])\n",
    "episodes_df['CreateTime'] = pd.to_datetime(episodes_df['CreateTime'])\n",
    "episodes_df['EndTime'] = pd.to_datetime(episodes_df['EndTime'])\n",
    "\n",
    "epagents_df.fillna(0, inplace=True)\n",
    "epagents_df = epagents_df.sort_values(by=['Id'], ascending=False)\n",
    "\n",
    "latest_scores_df = epagents_df.loc[epagents_df.groupby('SubmissionId').EpisodeId.idxmax(),:].sort_values(by=['UpdatedScore'])\n",
    "latest_scores_df['LatestScore'] = latest_scores_df.UpdatedScore\n",
    "latest_scores_df = latest_scores_df[['SubmissionId', 'LatestScore']]\n",
    "epagents_df = epagents_df.merge(latest_scores_df, left_on='SubmissionId', right_on='SubmissionId', how='outer').sort_values(by=['LatestScore'])"
   ]
  },
  {
   "cell_type": "code",
   "execution_count": 5,
   "metadata": {},
   "outputs": [
    {
     "name": "stdout",
     "output_type": "stream",
     "text": [
      "61830 episodes with all agent scores over 1000\n",
      "2181 of these 61830 episodes not yet saved\n",
      "Total of 198346 games in existing library\n"
     ]
    }
   ],
   "source": [
    "# Get episodes with all agent scores > a given threshold\n",
    "episode_min_scores = epagents_df.groupby('EpisodeId').LatestScore.min()\n",
    "ep_to_score = episode_min_scores[episode_min_scores >= LOWEST_SCORE_THRESH].to_dict()\n",
    "print(f'{len(ep_to_score)} episodes with all agent scores over {LOWEST_SCORE_THRESH}')\n",
    "\n",
    "all_files = []\n",
    "for root, dirs, files in os.walk(MATCH_DIR, topdown=False):\n",
    "    all_files.extend(files)\n",
    "seen_episodes = [int(f.split('.')[0]) for f in all_files \n",
    "                 if '.' in f and f.split('.')[0].isdigit() and f.split('.')[1] == 'json']\n",
    "remaining = np.setdiff1d([ep for ep in ep_to_score.keys()], seen_episodes)\n",
    "print(f'{len(remaining)} of these {len(ep_to_score)} episodes not yet saved')\n",
    "print('Total of {} games in existing library'.format(len(seen_episodes)))"
   ]
  },
  {
   "cell_type": "code",
   "execution_count": 6,
   "metadata": {
    "_kg_hide-input": true,
    "_kg_hide-output": true,
    "execution": {
     "iopub.execute_input": "2021-02-10T14:58:58.955827Z",
     "iopub.status.busy": "2021-02-10T14:58:58.955091Z",
     "iopub.status.idle": "2021-02-10T14:58:58.957904Z",
     "shell.execute_reply": "2021-02-10T14:58:58.958411Z"
    },
    "papermill": {
     "duration": 0.025925,
     "end_time": "2021-02-10T14:58:58.958598",
     "exception": false,
     "start_time": "2021-02-10T14:58:58.932673",
     "status": "completed"
    },
    "tags": []
   },
   "outputs": [],
   "source": [
    "def create_info_json(epid):\n",
    "    \n",
    "    create_seconds = int((episodes_df[episodes_df.index == epid]['CreateTime'].values[0]).item()/1e9)\n",
    "    end_seconds = int((episodes_df[episodes_df.index == epid]['CreateTime'].values[0]).item()/1e9)\n",
    "\n",
    "    agents = []\n",
    "    for index, row in epagents_df[epagents_df['EpisodeId'] == epid].sort_values(by=['Index']).iterrows():\n",
    "        agent = {\n",
    "            \"id\": int(row[\"Id\"]),\n",
    "            \"state\": int(row[\"State\"]),\n",
    "            \"submissionId\": int(row['SubmissionId']),\n",
    "            \"reward\": int(row['Reward']),\n",
    "            \"index\": int(row['Index']),\n",
    "            \"initialScore\": float(row['InitialScore']),\n",
    "            \"initialConfidence\": float(row['InitialConfidence']),\n",
    "            \"updatedScore\": float(row['UpdatedScore']),\n",
    "            \"updatedConfidence\": float(row['UpdatedConfidence']),\n",
    "            \"teamId\": int(99999)\n",
    "        }\n",
    "        agents.append(agent)\n",
    "\n",
    "    info = {\n",
    "        \"id\": int(epid),\n",
    "        \"competitionId\": int(COMPETITIONS[COMP]),\n",
    "        \"createTime\": {\n",
    "            \"seconds\": int(create_seconds)epagents_df\n",
    "        },\n",
    "        \"endTime\": {\n",
    "            \"seconds\": int(end_seconds)\n",
    "        },\n",
    "        \"agents\": agents\n",
    "    }\n",
    "\n",
    "    return info\n",
    "\n",
    "def saveEpisode(epid):\n",
    "    # request\n",
    "    re = requests.post(get_url, json = {\"EpisodeId\": int(epid)})\n",
    "        \n",
    "    # save replay\n",
    "    replay = re.json()['result']['replay']\n",
    "    with open(MATCH_DIR + '{}.json'.format(epid), 'w') as f:\n",
    "        f.write(replay)\n",
    "\n",
    "    # save match info\n",
    "    info = create_info_json(epid)\n",
    "    with open(INFO_DIR +  '{}_info.json'.format(epid), 'w') as f:\n",
    "        json.dump(info, f)"
   ]
  },
  {
   "cell_type": "code",
   "execution_count": 8,
   "metadata": {
    "_kg_hide-input": true,
    "execution": {
     "iopub.execute_input": "2021-02-10T14:58:59.034547Z",
     "iopub.status.busy": "2021-02-10T14:58:59.033830Z",
     "iopub.status.idle": "2021-02-10T15:00:41.353097Z",
     "shell.execute_reply": "2021-02-10T15:00:41.353911Z"
    },
    "papermill": {
     "duration": 102.344662,
     "end_time": "2021-02-10T15:00:41.354286",
     "exception": false,
     "start_time": "2021-02-10T14:58:59.009624",
     "status": "completed"
    },
    "scrolled": true,
    "tags": []
   },
   "outputs": [
    {
     "name": "stdout",
     "output_type": "stream",
     "text": [
      "1: saved episode #20573009 with score 1003.12\n",
      "2: saved episode #20580974 with score 1003.12\n",
      "3: saved episode #20587807 with score 1003.12\n",
      "4: saved episode #20588005 with score 1003.12\n",
      "5: saved episode #19808199 with score 1003.12\n",
      "6: saved episode #19865489 with score 1003.12\n",
      "7: saved episode #19980716 with score 1003.12\n",
      "8: saved episode #20065542 with score 1003.12\n",
      "9: saved episode #20130900 with score 1003.12\n",
      "10: saved episode #20250430 with score 1003.12\n",
      "11: saved episode #20331009 with score 1003.12\n",
      "12: saved episode #20575973 with score 1003.12\n",
      "13: saved episode #20557791 with score 1003.11\n",
      "14: saved episode #20574430 with score 1003.11\n",
      "15: saved episode #20581199 with score 1003.11\n",
      "16: saved episode #20553469 with score 1003.10\n",
      "17: saved episode #20561292 with score 1003.10\n",
      "18: saved episode #20563559 with score 1003.10\n",
      "19: saved episode #20567493 with score 1003.10\n",
      "20: saved episode #20585980 with score 1003.10\n",
      "21: saved episode #20596835 with score 1003.10\n",
      "22: saved episode #20598152 with score 1003.07\n",
      "23: saved episode #20493402 with score 1003.07\n",
      "24: saved episode #20581964 with score 1003.07\n",
      "25: saved episode #20084186 with score 1003.07\n",
      "26: saved episode #20504813 with score 1003.07\n",
      "27: saved episode #20603425 with score 1003.07\n",
      "28: saved episode #20381451 with score 1003.06\n",
      "29: saved episode #20597076 with score 1003.06\n",
      "30: saved episode #20159221 with score 1003.01\n",
      "31: saved episode #20349742 with score 1003.01\n",
      "32: saved episode #20374655 with score 1003.01\n",
      "33: saved episode #20562638 with score 1003.01\n",
      "34: saved episode #20574837 with score 1003.01\n",
      "35: saved episode #20336870 with score 1003.01\n",
      "36: saved episode #20529282 with score 1003.01\n",
      "37: saved episode #20343394 with score 1003.01\n",
      "38: saved episode #20486597 with score 1003.01\n",
      "39: saved episode #20571354 with score 1003.01\n",
      "40: saved episode #20577990 with score 1003.01\n",
      "41: saved episode #20588653 with score 1003.01\n",
      "42: saved episode #20603146 with score 1003.01\n",
      "43: saved episode #17903853 with score 1003.01\n",
      "44: saved episode #19528955 with score 1003.01\n",
      "45: saved episode #19599845 with score 1003.01\n",
      "46: saved episode #19624761 with score 1003.01\n",
      "47: saved episode #19651274 with score 1003.01\n",
      "48: saved episode #19698605 with score 1003.01\n",
      "49: saved episode #19764470 with score 1003.01\n",
      "50: saved episode #19817229 with score 1003.01\n",
      "51: saved episode #19828687 with score 1003.01\n",
      "52: saved episode #19873682 with score 1003.01\n",
      "53: saved episode #19874279 with score 1003.01\n",
      "54: saved episode #19905092 with score 1003.01\n",
      "55: saved episode #19978349 with score 1003.01\n",
      "56: saved episode #20054278 with score 1003.01\n",
      "57: saved episode #20068098 with score 1003.01\n",
      "58: saved episode #20085839 with score 1003.01\n",
      "59: saved episode #20115931 with score 1003.01\n",
      "60: saved episode #20150611 with score 1003.01\n",
      "61: saved episode #20210697 with score 1003.01\n",
      "62: saved episode #20272752 with score 1003.01\n",
      "63: saved episode #20275041 with score 1003.01\n",
      "64: saved episode #20518139 with score 1003.01\n",
      "65: saved episode #20555104 with score 1003.01\n",
      "66: saved episode #20603960 with score 1003.01\n",
      "67: saved episode #19518479 with score 1002.99\n",
      "68: saved episode #19708553 with score 1002.99\n",
      "69: saved episode #19729261 with score 1002.99\n",
      "70: saved episode #20084526 with score 1002.99\n",
      "71: saved episode #20109960 with score 1002.99\n",
      "72: saved episode #20182261 with score 1002.99\n",
      "73: saved episode #20206054 with score 1002.99\n",
      "74: saved episode #20206925 with score 1002.99\n",
      "75: saved episode #20249580 with score 1002.99\n",
      "76: saved episode #20250152 with score 1002.99\n",
      "77: saved episode #20258318 with score 1002.99\n",
      "78: saved episode #20280573 with score 1002.99\n",
      "79: saved episode #20295771 with score 1002.99\n",
      "80: saved episode #20526742 with score 1002.99\n",
      "81: saved episode #20567927 with score 1002.99\n",
      "82: saved episode #20569302 with score 1002.99\n",
      "83: saved episode #19989313 with score 1002.99\n",
      "84: saved episode #20184480 with score 1002.99\n",
      "85: saved episode #20267636 with score 1002.99\n",
      "86: saved episode #20331064 with score 1002.99\n",
      "87: saved episode #20337390 with score 1002.99\n",
      "88: saved episode #20408869 with score 1002.99\n",
      "89: saved episode #20424790 with score 1002.99\n",
      "90: saved episode #20458911 with score 1002.99\n",
      "91: saved episode #20472072 with score 1002.99\n",
      "92: saved episode #20492805 with score 1002.99\n",
      "93: saved episode #20547364 with score 1002.99\n",
      "94: saved episode #20557212 with score 1002.99\n",
      "95: saved episode #19754500 with score 1002.98\n",
      "96: saved episode #19872457 with score 1002.98\n",
      "97: saved episode #19971561 with score 1002.98\n",
      "98: saved episode #19983530 with score 1002.98\n",
      "99: saved episode #20066649 with score 1002.98\n",
      "100: saved episode #20071813 with score 1002.98\n",
      "101: saved episode #20078163 with score 1002.98\n",
      "102: saved episode #20080522 with score 1002.98\n",
      "103: saved episode #20091997 with score 1002.98\n",
      "104: saved episode #20099836 with score 1002.98\n",
      "105: saved episode #20124326 with score 1002.98\n",
      "106: saved episode #20132657 with score 1002.98\n",
      "107: saved episode #20237988 with score 1002.98\n",
      "108: saved episode #20274951 with score 1002.98\n",
      "109: saved episode #20310433 with score 1002.98\n",
      "110: saved episode #20320876 with score 1002.98\n",
      "111: saved episode #20324986 with score 1002.98\n",
      "112: saved episode #20389284 with score 1002.98\n",
      "113: saved episode #20399892 with score 1002.98\n",
      "114: saved episode #20442665 with score 1002.98\n",
      "115: saved episode #20451108 with score 1002.98\n",
      "116: saved episode #20477020 with score 1002.98\n",
      "117: saved episode #20576367 with score 1002.98\n",
      "118: saved episode #20594527 with score 1002.98\n",
      "119: saved episode #20601035 with score 1002.98\n",
      "120: saved episode #20527908 with score 1002.94\n",
      "121: saved episode #20586427 with score 1002.94\n",
      "122: saved episode #20594363 with score 1002.94\n",
      "123: saved episode #20596332 with score 1002.94\n",
      "124: saved episode #20600350 with score 1002.94\n",
      "125: saved episode #20600874 with score 1002.94\n",
      "126: saved episode #20604123 with score 1002.94\n",
      "127: saved episode #20231890 with score 1002.93\n",
      "128: saved episode #20303503 with score 1002.93\n",
      "129: saved episode #20372648 with score 1002.93\n",
      "130: saved episode #20411802 with score 1002.93\n",
      "131: saved episode #20464301 with score 1002.93\n",
      "132: saved episode #20491701 with score 1002.93\n",
      "133: saved episode #20564262 with score 1002.93\n",
      "134: saved episode #20565535 with score 1002.93\n",
      "135: saved episode #20583972 with score 1002.93\n",
      "136: saved episode #19653441 with score 1002.90\n",
      "137: saved episode #20494613 with score 1002.90\n",
      "138: saved episode #20495285 with score 1002.90\n",
      "139: saved episode #20588656 with score 1002.90\n",
      "140: saved episode #20590728 with score 1002.90\n",
      "141: saved episode #20595675 with score 1002.90\n",
      "142: saved episode #20597991 with score 1002.90\n",
      "143: saved episode #20602680 with score 1002.90\n"
     ]
    },
    {
     "ename": "KeyboardInterrupt",
     "evalue": "",
     "output_type": "error",
     "traceback": [
      "\u001b[0;31m---------------------------------------------------------------------------\u001b[0m",
      "\u001b[0;31mKeyboardInterrupt\u001b[0m                         Traceback (most recent call last)",
      "\u001b[0;32m<ipython-input-8-ff62571fa905>\u001b[0m in \u001b[0;36m<module>\u001b[0;34m\u001b[0m\n\u001b[1;32m     21\u001b[0m                 \u001b[0mse\u001b[0m \u001b[0;34m-=\u001b[0m \u001b[0;36m1\u001b[0m\u001b[0;34m\u001b[0m\u001b[0;34m\u001b[0m\u001b[0m\n\u001b[1;32m     22\u001b[0m             \u001b[0;32mif\u001b[0m \u001b[0mr\u001b[0m \u001b[0;34m>\u001b[0m \u001b[0;34m(\u001b[0m\u001b[0mdatetime\u001b[0m\u001b[0;34m.\u001b[0m\u001b[0mdatetime\u001b[0m\u001b[0;34m.\u001b[0m\u001b[0mnow\u001b[0m\u001b[0;34m(\u001b[0m\u001b[0;34m)\u001b[0m \u001b[0;34m-\u001b[0m \u001b[0mstart_time\u001b[0m\u001b[0;34m)\u001b[0m\u001b[0;34m.\u001b[0m\u001b[0mseconds\u001b[0m\u001b[0;34m:\u001b[0m\u001b[0;34m\u001b[0m\u001b[0;34m\u001b[0m\u001b[0m\n\u001b[0;32m---> 23\u001b[0;31m                 \u001b[0mtime\u001b[0m\u001b[0;34m.\u001b[0m\u001b[0msleep\u001b[0m\u001b[0;34m(\u001b[0m \u001b[0mr\u001b[0m \u001b[0;34m-\u001b[0m \u001b[0;34m(\u001b[0m\u001b[0mdatetime\u001b[0m\u001b[0;34m.\u001b[0m\u001b[0mdatetime\u001b[0m\u001b[0;34m.\u001b[0m\u001b[0mnow\u001b[0m\u001b[0;34m(\u001b[0m\u001b[0;34m)\u001b[0m \u001b[0;34m-\u001b[0m \u001b[0mstart_time\u001b[0m\u001b[0;34m)\u001b[0m\u001b[0;34m.\u001b[0m\u001b[0mseconds\u001b[0m\u001b[0;34m)\u001b[0m\u001b[0;34m\u001b[0m\u001b[0;34m\u001b[0m\u001b[0m\n\u001b[0m\u001b[1;32m     24\u001b[0m         \u001b[0;32mif\u001b[0m \u001b[0mnum_api_calls_today\u001b[0m \u001b[0;34m>=\u001b[0m \u001b[0;34m(\u001b[0m\u001b[0mmin\u001b[0m\u001b[0;34m(\u001b[0m\u001b[0;36m3600\u001b[0m\u001b[0;34m,\u001b[0m \u001b[0mMAX_CALLS_PER_DAY\u001b[0m\u001b[0;34m)\u001b[0m\u001b[0;34m)\u001b[0m\u001b[0;34m:\u001b[0m\u001b[0;34m\u001b[0m\u001b[0;34m\u001b[0m\u001b[0m\n\u001b[1;32m     25\u001b[0m             \u001b[0;32mbreak\u001b[0m\u001b[0;34m\u001b[0m\u001b[0;34m\u001b[0m\u001b[0m\n",
      "\u001b[0;31mKeyboardInterrupt\u001b[0m: "
     ]
    }
   ],
   "source": [
    "r = BUFFER;\n",
    "\n",
    "start_time = datetime.datetime.now()\n",
    "se=0\n",
    "for epid, value in sorted(ep_to_score.items(), key=lambda kv: kv[1], reverse=True):\n",
    "    if num_api_calls_today <= MAX_CALLS_PER_DAY:\n",
    "        if epid not in seen_episodes and num_api_calls_today < MAX_CALLS_PER_DAY:\n",
    "            try:\n",
    "                saveEpisode(epid); \n",
    "            except requests.exceptions.ConnectionError:\n",
    "                pass\n",
    "            r+=1;\n",
    "            se+=1\n",
    "            try:\n",
    "                size = os.path.getsize(MATCH_DIR+'{}.json'.format(epid)) / 1e6\n",
    "                print(f'{num_api_calls_today+1}: saved episode #{epid} with score {value:.2f}')\n",
    "                seen_episodes.append(epid)\n",
    "                num_api_calls_today+=1\n",
    "            except:\n",
    "                print('  file {}.json did not seem to save'.format(epid))\n",
    "                se -= 1\n",
    "            if r > (datetime.datetime.now() - start_time).seconds:\n",
    "                time.sleep( r - (datetime.datetime.now() - start_time).seconds)\n",
    "        if num_api_calls_today >= (min(3600, MAX_CALLS_PER_DAY)):\n",
    "            break\n",
    "print('')\n",
    "print(f'Episodes saved: {se}')"
   ]
  },
  {
   "cell_type": "markdown",
   "metadata": {
    "papermill": {
     "duration": 0.042895,
     "end_time": "2021-02-10T15:00:41.441307",
     "exception": false,
     "start_time": "2021-02-10T15:00:41.398412",
     "status": "completed"
    },
    "tags": []
   },
   "source": [
    "## Deprecated - filter episodes by submission:"
   ]
  },
  {
   "cell_type": "code",
   "execution_count": null,
   "metadata": {
    "_kg_hide-input": true,
    "execution": {
     "iopub.execute_input": "2021-02-10T14:58:58.444486Z",
     "iopub.status.busy": "2021-02-10T14:58:58.443848Z",
     "iopub.status.idle": "2021-02-10T14:58:58.488699Z",
     "shell.execute_reply": "2021-02-10T14:58:58.487828Z"
    },
    "papermill": {
     "duration": 0.058221,
     "end_time": "2021-02-10T14:58:58.488913",
     "exception": false,
     "start_time": "2021-02-10T14:58:58.430692",
     "status": "completed"
    },
    "tags": []
   },
   "outputs": [],
   "source": [
    "\"\"\"\n",
    "# Get top scoring submissions\n",
    "max_df = (epagents_df.sort_values(by=['EpisodeId'], ascending=False).groupby('SubmissionId').head(1).drop_duplicates().reset_index(drop=True))\n",
    "max_df = max_df[max_df.UpdatedScore>=LOWEST_SCORE_THRESH]\n",
    "max_df = pd.merge(left=episodes_df, right=max_df, left_on='Id', right_on='EpisodeId')\n",
    "sub_to_score_top = pd.Series(max_df.UpdatedScore.values,index=max_df.SubmissionId).to_dict()\n",
    "print(f'{len(sub_to_score_top)} submissions with score over {LOWEST_SCORE_THRESH}')\n",
    "\n",
    "# Get episodes for these submissionsa\n",
    "sub_to_episodes = collections.defaultdict(list)\n",
    "for key, value in sorted(sub_to_score_top.items(), key=lambda kv: kv[1], reverse=True):\n",
    "    eps = sorted(epagents_df[epagents_df['SubmissionId'].isin([key])]['EpisodeId'].values,reverse=True)\n",
    "    sub_to_episodes[key] = eps\n",
    "candidates = len(set([item for sublist in sub_to_episodes.values() for item in sublist]))\n",
    "print(f'{candidates} episodes for these {len(sub_to_score_top)} submissions')\n",
    "\n",
    "all_files = []\n",
    "for root, dirs, files in os.walk(MATCH_DIR, topdown=False):\n",
    "    all_files.extend(files)\n",
    "seen_episodes = [int(f.split('.')[0]) for f in all_files \n",
    "                      if '.' in f and f.split('.')[0].isdigit() and f.split('.')[1] == 'json']\n",
    "remaining = np.setdiff1d([item for sublist in sub_to_episodes.values() for item in sublist], seen_episodes)\n",
    "print(f'{len(remaining)} of these {candidates} episodes not yet saved')\n",
    "print('Total of {} games in existing library'.format(len(seen_episodes)))\n",
    "\"\"\";"
   ]
  }
 ],
 "metadata": {
  "kernelspec": {
   "display_name": "Python 3 (ipykernel)",
   "language": "python",
   "name": "python3"
  },
  "language_info": {
   "codemirror_mode": {
    "name": "ipython",
    "version": 3
   },
   "file_extension": ".py",
   "mimetype": "text/x-python",
   "name": "python",
   "nbconvert_exporter": "python",
   "pygments_lexer": "ipython3",
   "version": "3.9.5"
  },
  "papermill": {
   "default_parameters": {},
   "duration": 235.299673,
   "end_time": "2021-02-10T15:00:42.196308",
   "environment_variables": {},
   "exception": null,
   "input_path": "__notebook__.ipynb",
   "output_path": "__notebook__.ipynb",
   "parameters": {},
   "start_time": "2021-02-10T14:56:46.896635",
   "version": "2.2.2"
  }
 },
 "nbformat": 4,
 "nbformat_minor": 4
}
